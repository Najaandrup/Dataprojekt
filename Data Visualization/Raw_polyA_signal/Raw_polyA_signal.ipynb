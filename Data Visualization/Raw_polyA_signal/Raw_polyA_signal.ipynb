{
 "cells": [
  {
   "cell_type": "code",
   "execution_count": null,
   "metadata": {},
   "outputs": [],
   "source": [
    "import pandas as pd\n",
    "import pod5 as p5\n",
    "\n",
    "tsv_file = \"a120_2mod_polyA_position.tsv\"\n",
    "pod_file = \"egfp_a120_2mod_polya_reads.pod5\"\n",
    "\n",
    "polyA_df = pd.read_csv(tsv_file, sep='\\t')\n",
    "\n",
    "with p5.Reader(pod_file) as reader:\n",
    "    pod_data = [(str(read.read_id), read.signal) for read in reader.reads()]\n",
    "\n",
    "pod_df = pd.DataFrame(pod_data, columns=[\"read_id\",\"signal\"])\n",
    "df = polyA_df.merge(pod_df, on=\"read_id\")\n",
    "\n",
    "#df.to_csv(\"a60_30.tsv\", sep='\\t', index=False)"
   ]
  },
  {
   "cell_type": "code",
   "execution_count": null,
   "metadata": {},
   "outputs": [
    {
     "name": "stdout",
     "output_type": "stream",
     "text": [
      "(69373, 4)\n",
      "                                read_id  start   end  \\\n",
      "0  0155d34b-a8b7-45c2-bc2b-31e2804401b1   2646  3942   \n",
      "1  017d4f44-e7bc-41db-8b0d-adf556515b92   2418  5402   \n",
      "2  040ee389-76f4-4836-938a-36152049fe48   2617  4456   \n",
      "3  0506befe-be43-4083-8a7c-f19335a7d11e   2852  4092   \n",
      "4  082d2704-d59d-4870-b7cf-35bd08dc5ee4   3099  4552   \n",
      "\n",
      "                                              signal  \n",
      "0  [265, 267, 284, 281, 282, 273, 259, 261, 272, ...  \n",
      "1  [360, 329, 332, 327, 309, 322, 324, 315, 321, ...  \n",
      "2  [334, 300, 307, 287, 306, 315, 305, 304, 306, ...  \n",
      "3  [625, 289, 279, 304, 289, 304, 294, 290, 292, ...  \n",
      "4  [603, 314, 310, 324, 314, 278, 282, 276, 275, ...  \n",
      "4624.866666666667\n"
     ]
    }
   ],
   "source": [
    "print(df.shape)\n",
    "print(df.head())\n",
    "\n",
    "print(df.shape[0] / 15) # antal sider, hvis der er 15 plots på hver side"
   ]
  },
  {
   "cell_type": "code",
   "execution_count": 40,
   "metadata": {},
   "outputs": [
    {
     "name": "stdout",
     "output_type": "stream",
     "text": [
      "PDF saved as 'raw_polyA_signals_a120_2mod.pdf'\n",
      "Max signal length: 11508\n"
     ]
    }
   ],
   "source": [
    "import numpy as np\n",
    "import matplotlib.pyplot as plt\n",
    "from matplotlib.backends.backend_pdf import PdfPages\n",
    "\n",
    "def plot_polyA_signals_to_pdf(test_data, output_filename, max_plots):\n",
    "    num_plots = min(len(test_data), max_plots)\n",
    "    rows, cols = 5, 3  # 5 rows, 3 columns per page\n",
    "    pages = (num_plots + (rows * cols) - 1) // (rows * cols)  # Compute total pages\n",
    "\n",
    "    global_max_length = 0\n",
    "\n",
    "    with PdfPages(output_filename) as pdf:\n",
    "        for page in range(pages):\n",
    "            fig, axes = plt.subplots(rows, cols, figsize=(15, 9))\n",
    "            fig.suptitle(f'PolyA Signals (Page {page+1})', fontsize=16)\n",
    "            axes = axes.flatten()  # Flatten to 1D array for easier iteration\n",
    "            \n",
    "            for i in range(rows * cols):\n",
    "                idx = page * (rows * cols) + i\n",
    "                if idx >= num_plots:\n",
    "                    axes[i].axis('off')  # Hide unused subplots\n",
    "                    continue\n",
    "\n",
    "                signal_slice = test_data['signal'][idx][test_data['start'][idx]:test_data['end'][idx]]\n",
    "\n",
    "                # Compute local values\n",
    "                max_length_sliced = len(signal_slice)\n",
    "\n",
    "                # Update global max/min values\n",
    "                global_max_length = max(global_max_length, max_length_sliced)\n",
    "\n",
    "                # Plot the signal\n",
    "                axes[i].plot(signal_slice)\n",
    "                axes[i].set_title(f'Row {idx+1}')\n",
    "                axes[i].set_xlim(-100, 11508 + 100)  # Fixed x-axis range\n",
    "                axes[i].set_ylim(-10, 1000)  # Fixed y-axis range\n",
    "\n",
    "            plt.tight_layout(rect=[0, 0, 1, 0.96])  # Adjust layout to fit title\n",
    "            pdf.savefig(fig)  # Save the figure to the PDF\n",
    "            plt.close(fig)  # Free memory\n",
    "\n",
    "    # Print final global max/min values\n",
    "    print(f\"PDF saved as '{output_filename}'\")\n",
    "    print(f\"Max signal length: {global_max_length}\")\n",
    "\n",
    "# Usage: (data, pdf_name, number_of_plots)\n",
    "plot_polyA_signals_to_pdf(df, \"raw_polyA_signals_a120_2mod.pdf\", 480)"
   ]
  }
 ],
 "metadata": {
  "kernelspec": {
   "display_name": "base",
   "language": "python",
   "name": "python3"
  },
  "language_info": {
   "codemirror_mode": {
    "name": "ipython",
    "version": 3
   },
   "file_extension": ".py",
   "mimetype": "text/x-python",
   "name": "python",
   "nbconvert_exporter": "python",
   "pygments_lexer": "ipython3",
   "version": "3.12.7"
  }
 },
 "nbformat": 4,
 "nbformat_minor": 2
}
