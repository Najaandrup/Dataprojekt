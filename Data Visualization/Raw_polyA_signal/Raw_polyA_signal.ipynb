{
 "cells": [
  {
   "cell_type": "code",
   "execution_count": 13,
   "metadata": {},
   "outputs": [],
   "source": [
    "import pandas as pd\n",
    "import pod5 as p5\n",
    "\n",
    "def load_and_merge_data(tsv_file, pod_file):\n",
    "    \"\"\"Læser tsv- og pod5-filer, og returnerer en flettet DataFrame.\"\"\"\n",
    "    polyA_df = pd.read_csv(tsv_file, sep='\\t')\n",
    "\n",
    "    with p5.Reader(pod_file) as reader:\n",
    "        pod_data = [(str(read.read_id), read.signal) for read in reader.reads()]\n",
    "\n",
    "    pod_df = pd.DataFrame(pod_data, columns=[\"read_id\", \"signal\"])\n",
    "    return polyA_df.merge(pod_df, on=\"read_id\")"
   ]
  },
  {
   "cell_type": "code",
   "execution_count": 14,
   "metadata": {},
   "outputs": [],
   "source": [
    "import numpy as np\n",
    "import matplotlib.pyplot as plt\n",
    "from matplotlib.backends.backend_pdf import PdfPages\n",
    "\n",
    "def plot_polyA_signals_to_pdf(df, output_filename, max_plots, max_length):\n",
    "    \"\"\"Plotte polyA-signaler og gemme dem i en PDF.\"\"\"\n",
    "    num_plots = min(len(df), max_plots)\n",
    "    rows, cols = 5, 3\n",
    "    pages = (num_plots + (rows * cols) - 1) // (rows * cols)\n",
    "\n",
    "    global_max_length = 0\n",
    "\n",
    "    with PdfPages(output_filename) as pdf:\n",
    "        for page in range(pages):\n",
    "            fig, axes = plt.subplots(rows, cols, figsize=(15, 9))\n",
    "            fig.suptitle(f'PolyA Signals (Page {page+1})', fontsize=16)\n",
    "            axes = axes.flatten()\n",
    "\n",
    "            for i in range(rows * cols):\n",
    "                idx = page * (rows * cols) + i\n",
    "                if idx >= num_plots:\n",
    "                    axes[i].axis('off')\n",
    "                    continue\n",
    "\n",
    "                signal_slice = df['signal'][idx][df['start'][idx]:df['end'][idx]]\n",
    "                max_length_sliced = len(signal_slice)\n",
    "                global_max_length = max(global_max_length, max_length_sliced)\n",
    "\n",
    "                axes[i].plot(signal_slice)\n",
    "                axes[i].set_title(f'Row {idx+1}')\n",
    "                axes[i].set_xlim(-100, max_length + 100)\n",
    "                axes[i].set_ylim(-10, 1000)\n",
    "\n",
    "            plt.tight_layout(rect=[0, 0, 1, 0.96])\n",
    "            pdf.savefig(fig)\n",
    "            plt.close(fig)\n",
    "\n",
    "    print(f\"PDF saved as '{output_filename}'\")\n",
    "    print(f\"Max signal length: {global_max_length}\")"
   ]
  },
  {
   "cell_type": "code",
   "execution_count": 15,
   "metadata": {},
   "outputs": [
    {
     "name": "stdout",
     "output_type": "stream",
     "text": [
      "PDF saved as 'raw_polyA_signals_a120_2mod.pdf'\n",
      "Max signal length: 11508\n"
     ]
    }
   ],
   "source": [
    "data_a120_2mod = load_and_merge_data(\"a120_2mod_polyA_position.tsv\", \"egfp_a120_2mod_polya_reads.pod5\")\n",
    "plot_polyA_signals_to_pdf(data_a120_2mod, \"raw_polyA_signals_a120_2mod.pdf\", 60, 11508)"
   ]
  },
  {
   "cell_type": "code",
   "execution_count": 16,
   "metadata": {},
   "outputs": [
    {
     "name": "stdout",
     "output_type": "stream",
     "text": [
      "PDF saved as 'raw_polyA_signals_a120_1mod.pdf'\n",
      "Max signal length: 3824\n"
     ]
    }
   ],
   "source": [
    "data_a120_1mod = load_and_merge_data(\"a120_1mod_polyA_position.tsv\", \"egfp_a120_1mod_polya_reads.pod5\")\n",
    "plot_polyA_signals_to_pdf(data_a120_1mod, \"raw_polyA_signals_a120_1mod.pdf\", 60, 3824)"
   ]
  }
 ],
 "metadata": {
  "kernelspec": {
   "display_name": "base",
   "language": "python",
   "name": "python3"
  },
  "language_info": {
   "codemirror_mode": {
    "name": "ipython",
    "version": 3
   },
   "file_extension": ".py",
   "mimetype": "text/x-python",
   "name": "python",
   "nbconvert_exporter": "python",
   "pygments_lexer": "ipython3",
   "version": "3.12.7"
  }
 },
 "nbformat": 4,
 "nbformat_minor": 2
}
